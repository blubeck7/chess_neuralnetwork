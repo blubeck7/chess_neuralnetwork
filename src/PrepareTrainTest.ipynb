{
 "cells": [
  {
   "cell_type": "code",
   "execution_count": 1,
   "metadata": {
    "collapsed": true
   },
   "outputs": [],
   "source": [
    "#load packages\n",
    "import numpy as np\n",
    "import scipy as sp\n",
    "import scipy.sparse\n",
    "import os\n",
    "import gzip\n",
    "import pickle\n",
    "import pandas as pd\n",
    "import matplotlib.pyplot as plt"
   ]
  },
  {
   "cell_type": "markdown",
   "metadata": {},
   "source": [
    "### Train/Test Split\n",
    "\n",
    "In this section, we load the data. Then we check that it is accurate. Then we split the data into four training (80% together) datasets and a test (20%) dataset. Finally, we save the datasets."
   ]
  },
  {
   "cell_type": "code",
   "execution_count": 2,
   "metadata": {
    "collapsed": false
   },
   "outputs": [
    {
     "data": {
      "text/plain": [
       "['xTrain2.npz',\n",
       " 'xTrain3.npz',\n",
       " '2007_stats.pickle',\n",
       " 'ficsgamesdb_2006_chess2000_nomovetimes_1519260_1_mat.pickle.gz',\n",
       " 'xTrain1.npz',\n",
       " 'xTrain0.npz',\n",
       " '.DS_Store',\n",
       " 'ficsgamesdb_2006_chess2000_nomovetimes_1519260_2_mat.pickle.gz',\n",
       " 'yTrain2.npz',\n",
       " 'ficsgamesdb_2006_chess2000_nomovetimes_1519260_2_stats.pickle',\n",
       " 'yTrain3.npz',\n",
       " 'yTrain1.npz',\n",
       " 'yTrain0.npz',\n",
       " 'ficsgamesdb_2006_chess2000_nomovetimes_1519260_3_stats.pickle',\n",
       " '2008_mat.pickle.gz',\n",
       " 'xTest.npz',\n",
       " 'ficsgamesdb_2006_chess2000_nomovetimes_1519260_1_stats.pickle',\n",
       " '2009_mat.pickle.gz',\n",
       " '2008_stats.pickle',\n",
       " 'ficsgamesdb_2006_chess2000_nomovetimes_1519260_0_stats.pickle',\n",
       " 'yTest.npz',\n",
       " '2009_stats.pickle',\n",
       " 'yTrain.npz',\n",
       " 'xTrain.npz',\n",
       " 'ficsgamesdb_2006_chess2000_nomovetimes_1519260_3_mat.pickle.gz',\n",
       " 'ficsgamesdb_2006_chess2000_nomovetimes_1519260_0_mat.pickle.gz',\n",
       " '2007_mat.pickle.gz']"
      ]
     },
     "execution_count": 2,
     "metadata": {},
     "output_type": "execute_result"
    }
   ],
   "source": [
    "# directory with data processed from pgn files\n",
    "dataDir = '../data/clean'\n",
    "dataFiles = os.listdir(dataDir)\n",
    "dataFiles"
   ]
  },
  {
   "cell_type": "code",
   "execution_count": 3,
   "metadata": {
    "collapsed": false
   },
   "outputs": [
    {
     "name": "stdout",
     "output_type": "stream",
     "text": [
      "0\n"
     ]
    }
   ],
   "source": [
    "# load data into memory\n",
    "boardList = []\n",
    "resultList = []\n",
    "statsList = []\n",
    "\n",
    "for dataFile in dataFiles:\n",
    "    if dataFile.endswith('.gz'):\n",
    "        with gzip.open(os.path.join(dataDir,dataFile), 'rb') as f:\n",
    "            pickledList = f.read()\n",
    "            boardMat, resultMat = pickle.loads(pickledList) #matrix of board positions, matrix of game results\n",
    "            boardList.append(boardMat)\n",
    "            resultList.append(resultMat)    \n",
    "    \n",
    "    elif dataFile.endswith('.pickle'):\n",
    "        stats = pd.read_pickle(os.path.join(dataDir,dataFile))\n",
    "        statsList.append(stats)\n",
    "        \n",
    "#Data check that results vector and board matrix are in sync\n",
    "\n",
    "s = 0\n",
    "for i in range(len(boardList)):\n",
    "    s = s + np.sum(boardList[i].shape[0] == resultList[i].shape[0])\n",
    "print(len(boardList) - s)\n",
    "#if not zero then there is a problem with the parsing of the data.\n",
    "#need to look into parse data code and raw data"
   ]
  },
  {
   "cell_type": "code",
   "execution_count": 4,
   "metadata": {
    "collapsed": true
   },
   "outputs": [],
   "source": [
    "# combine list of matrices and into one matrix\n",
    "\n",
    "boards = scipy.sparse.vstack(boardList)\n",
    "results = np.concatenate(resultList)\n",
    "stats = pd.concat(statsList)\n",
    "\n",
    "del [boardList, resultList, statsList]"
   ]
  },
  {
   "cell_type": "code",
   "execution_count": 5,
   "metadata": {
    "collapsed": false
   },
   "outputs": [
    {
     "name": "stdout",
     "output_type": "stream",
     "text": [
      "Boards total GiB: 10.178316971287131\n",
      "Results total GiB: 0.08962979912757874\n",
      "Number of Board Positions: 96239264\n"
     ]
    }
   ],
   "source": [
    "# memory usage in GiB\n",
    "dataGiB = boards.nnz * boards.dtype.itemsize / (1024**3)\n",
    "colGiB = boards.indices.shape[0] * boards.indices.dtype.itemsize / (1024**3)\n",
    "rowGiB = boards.indptr.shape[0] * boards.indptr.dtype.itemsize / (1024**3)\n",
    "print('Boards total GiB: ' + str(dataGiB + colGiB + rowGiB))\n",
    "\n",
    "dataGiB = results.shape[0] * results.dtype.itemsize / (1024**3)\n",
    "print('Results total GiB: ' + str(dataGiB))\n",
    "\n",
    "print('Number of Board Positions: ' + str(boards.shape[0]))"
   ]
  },
  {
   "cell_type": "code",
   "execution_count": 12,
   "metadata": {
    "collapsed": false
   },
   "outputs": [],
   "source": [
    "# train test split for full data\n",
    "from sklearn.utils import shuffle as skshuffle\n",
    "xTrain, yTrain = skshuffle(boards, results)\n",
    "del [boards, results]"
   ]
  },
  {
   "cell_type": "code",
   "execution_count": null,
   "metadata": {
    "collapsed": true
   },
   "outputs": [],
   "source": [
    "# train test split\n",
    "chunks = os.cpu_count()\n",
    "from sklearn.model_selection import train_test_split\n",
    "\n",
    "# 20% to test and 80% to train\n",
    "xTrain, xTest, yTrain, yTest = train_test_split(boards, results, train_size = 0.8)\n",
    "# Subdivide train into # of cores pieces\n",
    "\n",
    "del [boards, results]"
   ]
  },
  {
   "cell_type": "code",
   "execution_count": null,
   "metadata": {
    "collapsed": false
   },
   "outputs": [],
   "source": [
    "chunks = os.cpu_count()\n",
    "interval = xTrain.shape[0] // chunks\n",
    "xTrain_ = []\n",
    "yTrain_ = []\n",
    "for i in range(chunks):\n",
    "    if i == chunks:\n",
    "        xTrain_.append(xTrain[interval * i:-1])\n",
    "        yTrain_.append(yTrain[interval * i:-1])\n",
    "    else:\n",
    "        xTrain_.append(xTrain[interval * i:interval * (i+1)])\n",
    "        yTrain_.append(yTrain[interval * i:interval * (i+1)])"
   ]
  },
  {
   "cell_type": "code",
   "execution_count": 20,
   "metadata": {
    "collapsed": false
   },
   "outputs": [],
   "source": [
    "# save train and test splits\n",
    "chunks = os.cpu_count()\n",
    "interval = xTrain.shape[0] // chunks\n",
    "for i in range(chunks):\n",
    "    if i == chunks:\n",
    "        scipy.sparse.save_npz(os.path.join(dataDir, 'xTrain' + str(i)), xTrain[interval * i:-1], compressed=True)\n",
    "        np.savez_compressed(os.path.join(dataDir, 'yTrain' + str(i)), yTrain[interval * i:-1])\n",
    "    else:\n",
    "        scipy.sparse.save_npz(os.path.join(dataDir, 'xTrain' + str(i)), xTrain[interval * i:interval * (i+1)], compressed=True)\n",
    "        np.savez_compressed(os.path.join(dataDir, 'yTrain' + str(i)), yTrain[interval * i:interval * (i+1)])        \n",
    "\n",
    "del [xTrain, yTrain]\n",
    "#scipy.sparse.save_npz(os.path.join(dataDir, 'xTest'), xTest, compressed=True)\n",
    "#np.savez_compressed(os.path.join(dataDir, 'yTest'), yTest)"
   ]
  },
  {
   "cell_type": "code",
   "execution_count": 21,
   "metadata": {
    "collapsed": false
   },
   "outputs": [
    {
     "name": "stdout",
     "output_type": "stream",
     "text": [
      "count    1.158000e+06\n",
      "mean     8.310821e+01\n",
      "std      4.014873e+01\n",
      "min      0.000000e+00\n",
      "25%      5.600000e+01\n",
      "50%      7.800000e+01\n",
      "75%      1.040000e+02\n",
      "max      6.000000e+02\n",
      "Name: Moves, dtype: float64 \n",
      "\n",
      "count    1.158000e+06\n",
      "mean    -1.034240e+00\n",
      "std      2.598268e+02\n",
      "min     -1.951000e+03\n",
      "25%     -1.370000e+02\n",
      "50%      0.000000e+00\n",
      "75%      1.340000e+02\n",
      "max      1.924000e+03\n",
      "Name: RatingDiff, dtype: float64 \n",
      "\n",
      "(array([-1,  0,  1]), array([507925,  99881, 550194]))\n"
     ]
    }
   ],
   "source": [
    "# train/test split. save using numpy/scipy functions\n",
    "# stats about the data - Number of games\n",
    "#   Shortest game, average game, longest game in terms of # of moves\n",
    "#   difference in ratings, min, ave, max\n",
    "#   num of white wins, draws and loses\n",
    "#   white win % as a func of rating diff - simple bar chart\n",
    "#   histograms of moves per game and rating diffs\n",
    "\n",
    "print(stats.Moves.describe(),'\\n')\n",
    "print(stats.RatingDiff.describe(),'\\n')\n",
    "print(np.unique(stats.Result.values, return_counts = True))"
   ]
  },
  {
   "cell_type": "code",
   "execution_count": 22,
   "metadata": {
    "collapsed": false
   },
   "outputs": [
    {
     "data": {
      "text/plain": [
       "96239309"
      ]
     },
     "execution_count": 22,
     "metadata": {},
     "output_type": "execute_result"
    }
   ],
   "source": [
    "stats.Moves.sum()"
   ]
  },
  {
   "cell_type": "code",
   "execution_count": null,
   "metadata": {
    "collapsed": true
   },
   "outputs": [],
   "source": []
  },
  {
   "cell_type": "code",
   "execution_count": null,
   "metadata": {
    "collapsed": true
   },
   "outputs": [],
   "source": []
  },
  {
   "cell_type": "code",
   "execution_count": null,
   "metadata": {
    "collapsed": true
   },
   "outputs": [],
   "source": []
  },
  {
   "cell_type": "code",
   "execution_count": 29,
   "metadata": {
    "collapsed": false
   },
   "outputs": [
    {
     "data": {
      "text/html": [
       "<div>\n",
       "<style scoped>\n",
       "    .dataframe tbody tr th:only-of-type {\n",
       "        vertical-align: middle;\n",
       "    }\n",
       "\n",
       "    .dataframe tbody tr th {\n",
       "        vertical-align: top;\n",
       "    }\n",
       "\n",
       "    .dataframe thead th {\n",
       "        text-align: right;\n",
       "    }\n",
       "</style>\n",
       "<table border=\"1\" class=\"dataframe\">\n",
       "  <thead>\n",
       "    <tr style=\"text-align: right;\">\n",
       "      <th></th>\n",
       "      <th>Moves</th>\n",
       "      <th>Clock</th>\n",
       "      <th>RatingDiff</th>\n",
       "      <th>Result</th>\n",
       "    </tr>\n",
       "  </thead>\n",
       "  <tbody>\n",
       "    <tr>\n",
       "      <th>0</th>\n",
       "      <td>64</td>\n",
       "      <td>3</td>\n",
       "      <td>-554</td>\n",
       "      <td>-1</td>\n",
       "    </tr>\n",
       "    <tr>\n",
       "      <th>1</th>\n",
       "      <td>148</td>\n",
       "      <td>15</td>\n",
       "      <td>-280</td>\n",
       "      <td>-1</td>\n",
       "    </tr>\n",
       "    <tr>\n",
       "      <th>2</th>\n",
       "      <td>139</td>\n",
       "      <td>15</td>\n",
       "      <td>208</td>\n",
       "      <td>1</td>\n",
       "    </tr>\n",
       "    <tr>\n",
       "      <th>3</th>\n",
       "      <td>91</td>\n",
       "      <td>3</td>\n",
       "      <td>-130</td>\n",
       "      <td>1</td>\n",
       "    </tr>\n",
       "    <tr>\n",
       "      <th>4</th>\n",
       "      <td>95</td>\n",
       "      <td>30</td>\n",
       "      <td>137</td>\n",
       "      <td>1</td>\n",
       "    </tr>\n",
       "  </tbody>\n",
       "</table>\n",
       "</div>"
      ],
      "text/plain": [
       "   Moves  Clock  RatingDiff  Result\n",
       "0     64      3        -554      -1\n",
       "1    148     15        -280      -1\n",
       "2    139     15         208       1\n",
       "3     91      3        -130       1\n",
       "4     95     30         137       1"
      ]
     },
     "execution_count": 29,
     "metadata": {},
     "output_type": "execute_result"
    }
   ],
   "source": [
    "stats.head()"
   ]
  },
  {
   "cell_type": "code",
   "execution_count": 47,
   "metadata": {
    "collapsed": false
   },
   "outputs": [
    {
     "data": {
      "image/png": "[encoded data removed]",
      "text/plain": [
       "<matplotlib.figure.Figure at 0x115508748>"
      ]
     },
     "metadata": {},
     "output_type": "display_data"
    }
   ],
   "source": [
    "x = stats.RatingDiff\n",
    "bins = 20\n",
    "plt.hist(x, bins)\n",
    "plt.xlabel('Rating Difference (White - Black)')\n",
    "plt.ylabel('Number of Games')\n",
    "#plt.title('Histogram of Rating Differences')\n",
    "plt.xlim(-1000,1000)\n",
    "plt.gca().yaxis.set_major_formatter(plt.FuncFormatter(lambda x, loc: \"{:,}\".format(int(x))))\n",
    "plt.show()"
   ]
  },
  {
   "cell_type": "code",
   "execution_count": 38,
   "metadata": {
    "collapsed": false
   },
   "outputs": [],
   "source": [
    "import matplotlib.ticker as ticker\n",
    "#plt.FormatStrFormatter()\n",
    "a = plt.gca()\n",
    "\n",
    "#plt.ticklabel_format(plt.FuncFormatter(lambda x, loc: \"{:,}\".format(int(x))), axis = 'y')"
   ]
  },
  {
   "cell_type": "code",
   "execution_count": 45,
   "metadata": {
    "collapsed": false
   },
   "outputs": [],
   "source": [
    "a = plt.FuncFormatter(lambda x, loc: \"{:,}\".format(int(x)))"
   ]
  },
  {
   "cell_type": "code",
   "execution_count": 46,
   "metadata": {
    "collapsed": false
   },
   "outputs": [
    {
     "data": {
      "text/plain": [
       "matplotlib.ticker.FuncFormatter"
      ]
     },
     "execution_count": 46,
     "metadata": {},
     "output_type": "execute_result"
    }
   ],
   "source": [
    "type(a)"
   ]
  },
  {
   "cell_type": "code",
   "execution_count": null,
   "metadata": {
    "collapsed": true
   },
   "outputs": [],
   "source": []
  }
 ],
 "metadata": {
  "kernelspec": {
   "display_name": "Python 3",
   "language": "python",
   "name": "python3"
  },
  "language_info": {
   "codemirror_mode": {
    "name": "ipython",
    "version": 3
   },
   "file_extension": ".py",
   "mimetype": "text/x-python",
   "name": "python",
   "nbconvert_exporter": "python",
   "pygments_lexer": "ipython3",
   "version": "3.6.0"
  }
 },
 "nbformat": 4,
 "nbformat_minor": 2
}
